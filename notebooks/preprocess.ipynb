{
 "cells": [
  {
   "cell_type": "markdown",
   "metadata": {},
   "source": [
    "# パッケージの読み込み"
   ]
  },
  {
   "cell_type": "code",
   "execution_count": 2,
   "metadata": {
    "ExecuteTime": {
     "end_time": "2020-09-21T09:20:16.320031Z",
     "start_time": "2020-09-21T09:20:15.053214Z"
    }
   },
   "outputs": [],
   "source": [
    "import os\n",
    "# 数値処理\n",
    "import numpy as np\n",
    "import pandas as pd\n",
    "from sklearn.preprocessing import PolynomialFeatures\n",
    "\n",
    "# グラフ描画\n",
    "%matplotlib inline\n",
    "import seaborn as sns\n",
    "import matplotlib.pyplot as plt\n",
    "plt.rcParams['font.family'] = 'Meiryo'"
   ]
  },
  {
   "cell_type": "markdown",
   "metadata": {},
   "source": [
    "# 前処理\n",
    "## データの読み込み"
   ]
  },
  {
   "cell_type": "code",
   "execution_count": 3,
   "metadata": {
    "ExecuteTime": {
     "end_time": "2020-09-21T09:20:16.346944Z",
     "start_time": "2020-09-21T09:20:16.331989Z"
    }
   },
   "outputs": [],
   "source": [
    "# データの配置場所\n",
    "input_dir = 'C:/Users/rhira/Documents/GitHub'\\\n",
    "            '/signate-competition-Liver-disease-beginner/data/input'\n",
    "# トレーニングデータ\n",
    "train = pd.read_csv(os.path.join(input_dir[:], 'train.csv'))\n",
    "# テストデータ\n",
    "test = pd.read_csv(os.path.join(input_dir[:], 'test.csv'))"
   ]
  },
  {
   "cell_type": "markdown",
   "metadata": {},
   "source": [
    "## 特徴量とターゲットに分離"
   ]
  },
  {
   "cell_type": "code",
   "execution_count": 4,
   "metadata": {
    "ExecuteTime": {
     "end_time": "2020-09-21T09:20:16.720775Z",
     "start_time": "2020-09-21T09:20:16.715789Z"
    }
   },
   "outputs": [],
   "source": [
    "# トレーニングデータからターゲットをドロップ\n",
    "train_feature = train.drop(['disease'], axis=1)\n",
    "# トレーニングデータからターゲットを抽出\n",
    "train_target = train['disease']"
   ]
  },
  {
   "cell_type": "markdown",
   "metadata": {},
   "source": [
    "## 特徴量の結合"
   ]
  },
  {
   "cell_type": "code",
   "execution_count": 5,
   "metadata": {
    "ExecuteTime": {
     "end_time": "2020-09-21T09:20:17.464807Z",
     "start_time": "2020-09-21T09:20:17.459806Z"
    }
   },
   "outputs": [],
   "source": [
    "# 縦方向に結合\n",
    "feature = pd.concat([train_feature, test], axis=0)"
   ]
  },
  {
   "cell_type": "markdown",
   "metadata": {
    "ExecuteTime": {
     "end_time": "2020-09-21T09:07:49.190693Z",
     "start_time": "2020-09-21T09:07:49.173723Z"
    }
   },
   "source": [
    "## ダミー変数化"
   ]
  },
  {
   "cell_type": "code",
   "execution_count": 6,
   "metadata": {
    "ExecuteTime": {
     "end_time": "2020-09-21T09:20:18.083939Z",
     "start_time": "2020-09-21T09:20:18.075961Z"
    }
   },
   "outputs": [],
   "source": [
    "feature_dummy = pd.get_dummies(feature, drop_first=True)"
   ]
  },
  {
   "cell_type": "markdown",
   "metadata": {
    "ExecuteTime": {
     "end_time": "2020-09-21T09:08:47.684506Z",
     "start_time": "2020-09-21T09:08:47.668549Z"
    }
   },
   "source": [
    "## 交互作用項の追加"
   ]
  },
  {
   "cell_type": "code",
   "execution_count": 11,
   "metadata": {
    "ExecuteTime": {
     "end_time": "2020-09-21T09:22:38.389500Z",
     "start_time": "2020-09-21T09:22:38.363569Z"
    }
   },
   "outputs": [],
   "source": [
    "# 2次の交互作用\n",
    "quadratic = PolynomialFeatures(degree = 2, include_bias = False)\n",
    "feature_quadratic = pd.DataFrame(quadratic.fit_transform(feature_dummy),\n",
    "                                 columns=quadratic.get_feature_names(feature_dummy.columns))\n",
    "# 3次の交互作用\n",
    "cubic = PolynomialFeatures(degree = 3, include_bias = False)\n",
    "feature_cubic = pd.DataFrame(cubic.fit_transform(feature_dummy),\n",
    "                             columns=cubic.get_feature_names(feature_dummy.columns))"
   ]
  },
  {
   "cell_type": "markdown",
   "metadata": {
    "ExecuteTime": {
     "end_time": "2020-09-21T09:22:39.845912Z",
     "start_time": "2020-09-21T09:22:39.817984Z"
    }
   },
   "source": [
    "# データの保存"
   ]
  },
  {
   "cell_type": "markdown",
   "metadata": {},
   "source": [
    "## 特徴量の分割"
   ]
  },
  {
   "cell_type": "code",
   "execution_count": 25,
   "metadata": {
    "ExecuteTime": {
     "end_time": "2020-09-21T09:48:57.951086Z",
     "start_time": "2020-09-21T09:48:57.942080Z"
    }
   },
   "outputs": [],
   "source": [
    "# 交互作用無\n",
    "train_dummied = feature_dummy[:len(train)].reset_index(drop=True)\n",
    "test_dummied = feature_dummy[len(train):].reset_index(drop=True)\n",
    "# 2次交互作用\n",
    "train_quadratic = feature_quadratic[:len(train)] .reset_index(drop=True)\n",
    "test_quadratic = feature_quadratic[len(train):].reset_index(drop=True)\n",
    "# 3次交互作用\n",
    "train_cubic = feature_cubic[:len(train)].reset_index(drop=True)\n",
    "test_cubic = feature_cubic[len(train):].reset_index(drop=True)"
   ]
  },
  {
   "cell_type": "markdown",
   "metadata": {},
   "source": [
    "## 保存"
   ]
  },
  {
   "cell_type": "code",
   "execution_count": 27,
   "metadata": {
    "ExecuteTime": {
     "end_time": "2020-09-21T09:50:07.916205Z",
     "start_time": "2020-09-21T09:50:07.857333Z"
    }
   },
   "outputs": [],
   "source": [
    "# データの配置場所\n",
    "output_dir = 'C:/Users/rhira/Documents/GitHub'\\\n",
    "             '/signate-competition-Liver-disease-beginner/features'\n",
    "\n",
    "# 出力\n",
    "# 交互作用無\n",
    "train_dummied.to_feather(os.path.join(output_dir, 'train_dummied_feature.feather'))\n",
    "test_dummied.to_feather(os.path.join(output_dir, 'test_dummied_feature.feather'))\n",
    "# 2次交互作用\n",
    "train_quadratic.to_feather(os.path.join(output_dir, 'train_qiadratic_feature.feather'))\n",
    "test_quadratic.to_feather(os.path.join(output_dir, 'test_quadratic_feature.feather'))\n",
    "# 3次交互作用\n",
    "train_cubic.to_feather(os.path.join(output_dir, 'train_cubic_feature.feather'))\n",
    "test_cubic.to_feather(os.path.join(output_dir, 'test_cubic_feature.feather'))\n",
    "# ターゲット\n",
    "pd.DataFrame(train_target).to_feather(os.path.join(output_dir, 'train_target.feather'))"
   ]
  },
  {
   "cell_type": "code",
   "execution_count": null,
   "metadata": {},
   "outputs": [],
   "source": []
  }
 ],
 "metadata": {
  "kernelspec": {
   "display_name": "Python 3",
   "language": "python",
   "name": "python3"
  },
  "language_info": {
   "codemirror_mode": {
    "name": "ipython",
    "version": 3
   },
   "file_extension": ".py",
   "mimetype": "text/x-python",
   "name": "python",
   "nbconvert_exporter": "python",
   "pygments_lexer": "ipython3",
   "version": "3.8.5"
  },
  "toc": {
   "base_numbering": 1,
   "nav_menu": {},
   "number_sections": true,
   "sideBar": true,
   "skip_h1_title": false,
   "title_cell": "Table of Contents",
   "title_sidebar": "Contents",
   "toc_cell": false,
   "toc_position": {},
   "toc_section_display": true,
   "toc_window_display": false
  },
  "varInspector": {
   "cols": {
    "lenName": 16,
    "lenType": 16,
    "lenVar": 40
   },
   "kernels_config": {
    "python": {
     "delete_cmd_postfix": "",
     "delete_cmd_prefix": "del ",
     "library": "var_list.py",
     "varRefreshCmd": "print(var_dic_list())"
    },
    "r": {
     "delete_cmd_postfix": ") ",
     "delete_cmd_prefix": "rm(",
     "library": "var_list.r",
     "varRefreshCmd": "cat(var_dic_list()) "
    }
   },
   "position": {
    "height": "378.4px",
    "left": "1131.4px",
    "right": "20px",
    "top": "120px",
    "width": "371px"
   },
   "types_to_exclude": [
    "module",
    "function",
    "builtin_function_or_method",
    "instance",
    "_Feature"
   ],
   "window_display": true
  }
 },
 "nbformat": 4,
 "nbformat_minor": 4
}
